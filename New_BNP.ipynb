{
 "cells": [
  {
   "cell_type": "code",
   "execution_count": 2,
   "metadata": {},
   "outputs": [],
   "source": [
    "import pandas as pd\n",
    "import numpy as np\n",
    "import seaborn as sns\n",
    "import matplotlib\n",
    "import matplotlib.pyplot as plt\n",
    "import os\n",
    "import warnings\n",
    "#warnings.filterwarnings(\"ignore\", category=DeprecationWarning) \n",
    "warnings.filterwarnings(\"ignore\") \n",
    "\n",
    "\n",
    "\n",
    "# import lightgbm as lgb\n",
    "# import xgboost as xgb\n",
    "from scipy.stats import skew\n",
    "from scipy import stats\n",
    "from scipy.stats.stats import pearsonr\n",
    "from scipy.stats import norm\n",
    "from collections import Counter\n",
    "from sklearn.linear_model import LinearRegression,LassoCV, Ridge, LassoLarsCV,ElasticNetCV\n",
    "from sklearn.model_selection import GridSearchCV, cross_val_score, learning_curve, train_test_split\n",
    "from sklearn.ensemble import ExtraTreesClassifier\n",
    "from sklearn.preprocessing import StandardScaler, Normalizer\n",
    "\n",
    "from sklearn.model_selection import train_test_split\n",
    "from sklearn.feature_selection import VarianceThreshold\n",
    "\n",
    "sns.set(style='white', context='notebook', palette='deep')\n"
   ]
  },
  {
   "cell_type": "code",
   "execution_count": 5,
   "metadata": {},
   "outputs": [],
   "source": [
    "\n",
    "train = pd.read_csv('train.csv')\n",
    "test = pd.read_csv('test.csv')\n"
   ]
  },
  {
   "cell_type": "code",
   "execution_count": 6,
   "metadata": {},
   "outputs": [],
   "source": [
    "train.shape\n",
    "test.shape\n",
    "# Save the 'Id' column\n",
    "train_ID = train['ID']\n",
    "test_ID = test['ID']\n",
    "\n",
    "# Save Output Columns\n",
    "train_labels = train['target']\n",
    "\n",
    "# Now drop the 'Id' column since it's unnecessary for the prediction process.\n",
    "train.drop(\"ID\", axis = 1, inplace = True)\n",
    "test.drop(\"ID\", axis = 1, inplace = True)"
   ]
  },
  {
   "cell_type": "code",
   "execution_count": 8,
   "metadata": {},
   "outputs": [],
   "source": [
    "train_features = train.copy()\n",
    "train_features.drop(labels=['target'], axis=1, inplace=True)\n",
    "test_features = test.copy()"
   ]
  },
  {
   "cell_type": "code",
   "execution_count": 6,
   "metadata": {},
   "outputs": [
    {
     "data": {
      "text/plain": [
       "(114393, 131)"
      ]
     },
     "execution_count": 6,
     "metadata": {},
     "output_type": "execute_result"
    }
   ],
   "source": [
    "train_features.shape\n",
    "test_features.shape"
   ]
  },
  {
   "cell_type": "code",
   "execution_count": 9,
   "metadata": {},
   "outputs": [],
   "source": [
    "train_features=train_features.fillna(-999)\n",
    "test_features=test_features.fillna(-999)\n",
    "\n",
    "\n",
    "train_features.drop (labels=['v10', 'v34', 'v50'], axis=1, inplace=True);\n",
    "test_features.drop (labels=['v10', 'v34', 'v50'], axis=1, inplace=True);"
   ]
  },
  {
   "cell_type": "code",
   "execution_count": 10,
   "metadata": {},
   "outputs": [],
   "source": [
    "from sklearn.feature_selection import SelectKBest\n",
    "from sklearn.feature_selection import f_classif"
   ]
  },
  {
   "cell_type": "code",
   "execution_count": 11,
   "metadata": {},
   "outputs": [],
   "source": [
    "train_features=train_features.fillna(-999)\n",
    "test_features=test_features.fillna(-999)"
   ]
  },
  {
   "cell_type": "code",
   "execution_count": 12,
   "metadata": {},
   "outputs": [],
   "source": [
    "# Feature Processing: Indexing and roud off\n",
    "refcols=train_features.columns\n",
    "\n",
    "for elt in refcols:\n",
    "    if train_features[elt].dtype=='O':\n",
    "        train_features[elt], temp = pd.factorize(train_features[elt])\n",
    "        test_features[elt]=temp.get_indexer(test_features[elt])\n",
    "    else:\n",
    "        train_features[elt]=train_features[elt].round(5)\n",
    "        test_features[elt]=test_features[elt].round(5)"
   ]
  },
  {
   "cell_type": "code",
   "execution_count": 13,
   "metadata": {},
   "outputs": [
    {
     "data": {
      "text/plain": [
       "(114321, 128)"
      ]
     },
     "execution_count": 13,
     "metadata": {},
     "output_type": "execute_result"
    }
   ],
   "source": [
    "train_features.shape"
   ]
  },
  {
   "cell_type": "code",
   "execution_count": 14,
   "metadata": {},
   "outputs": [
    {
     "data": {
      "text/plain": [
       "(114393, 128)"
      ]
     },
     "execution_count": 14,
     "metadata": {},
     "output_type": "execute_result"
    }
   ],
   "source": [
    "test_features.shape\n"
   ]
  },
  {
   "cell_type": "code",
   "execution_count": 24,
   "metadata": {},
   "outputs": [],
   "source": [
    "selection = SelectKBest(f_classif, k=100).fit(train_features, train_labels)"
   ]
  },
  {
   "cell_type": "code",
   "execution_count": 26,
   "metadata": {},
   "outputs": [],
   "source": [
    "train_features = selection.transform(train_features)"
   ]
  },
  {
   "cell_type": "code",
   "execution_count": 27,
   "metadata": {},
   "outputs": [
    {
     "data": {
      "text/plain": [
       "(114321, 100)"
      ]
     },
     "execution_count": 27,
     "metadata": {},
     "output_type": "execute_result"
    }
   ],
   "source": [
    "train_features.shape"
   ]
  },
  {
   "cell_type": "code",
   "execution_count": 28,
   "metadata": {},
   "outputs": [],
   "source": [
    "test_features = selection.transform(test_features)"
   ]
  },
  {
   "cell_type": "code",
   "execution_count": 29,
   "metadata": {},
   "outputs": [
    {
     "data": {
      "text/plain": [
       "(114393, 100)"
      ]
     },
     "execution_count": 29,
     "metadata": {},
     "output_type": "execute_result"
    }
   ],
   "source": [
    "test_features.shape"
   ]
  },
  {
   "cell_type": "code",
   "execution_count": 30,
   "metadata": {},
   "outputs": [],
   "source": [
    "train_features= pd.DataFrame(train_features);\n",
    "test_features= pd.DataFrame(test_features);\n"
   ]
  },
  {
   "cell_type": "code",
   "execution_count": 31,
   "metadata": {},
   "outputs": [],
   "source": [
    "# Class to predict the probability\n",
    "class Class_Predict_BNP:\n",
    "\n",
    " def Predict_BNP(self,df_train,df_test,target):\n",
    "    # Prepraing Train Test Set        \n",
    "    y = target\n",
    "    X = df_train.values\n",
    "\n",
    "    # Select Model\n",
    "    clf = ExtraTreesClassifier(n_estimators=750,max_features=50, \n",
    "                               criterion= 'entropy',min_samples_split= 4, \n",
    "                               max_depth= 35, min_samples_leaf= 2, \n",
    "                               n_jobs = -1, random_state=12)\n",
    "                               \n",
    "    clf.fit(X,y)\n",
    "\n",
    "    # Prediction probability\n",
    "    value_proba=clf.predict_proba(df_test.values)\n",
    "    \n",
    "    # Submission\n",
    "    submission=pd.read_csv('sample_submission.csv')\n",
    "    submission.index=submission.ID\n",
    "    submission.PredictedProb=value_proba[:,1]\n",
    "    submission.to_csv('BNP_ETC_SUB1.csv', index=False)\n",
    "    return;"
   ]
  },
  {
   "cell_type": "code",
   "execution_count": 33,
   "metadata": {},
   "outputs": [],
   "source": [
    "from sklearn.ensemble import ExtraTreesClassifier"
   ]
  },
  {
   "cell_type": "code",
   "execution_count": 34,
   "metadata": {},
   "outputs": [],
   "source": [
    "a = Class_Predict_BNP()"
   ]
  },
  {
   "cell_type": "code",
   "execution_count": null,
   "metadata": {},
   "outputs": [],
   "source": [
    "a.Predict_BNP(train_features,test_features,train_labels)"
   ]
  },
  {
   "cell_type": "markdown",
   "metadata": {},
   "source": [
    "We did not get the high accuracy. Hence we will normalize and standardize the data now"
   ]
  },
  {
   "cell_type": "code",
   "execution_count": 39,
   "metadata": {},
   "outputs": [
    {
     "data": {
      "text/plain": [
       "array([[ 8.42335088e-04,  0.00000000e+00,  1.44055820e-03, ...,\n",
       "         3.12509523e-04,  0.00000000e+00,  1.48447837e-03],\n",
       "       [-9.98933849e-01,  0.00000000e+00, -9.98420456e-01, ...,\n",
       "        -9.99276290e-01,  0.00000000e+00, -9.99160198e-01],\n",
       "       [-5.32310922e-04,  0.00000000e+00,  1.78300436e-03, ...,\n",
       "         3.02478526e-04,  0.00000000e+00,  4.15044362e-04],\n",
       "       ...,\n",
       "       [ 9.90516265e-04,  0.00000000e+00,  1.06811226e-03, ...,\n",
       "         4.28045829e-04,  0.00000000e+00,  9.68093748e-04],\n",
       "       [-9.98933849e-01,  0.00000000e+00, -9.98420456e-01, ...,\n",
       "        -9.99276290e-01,  0.00000000e+00, -9.99160198e-01],\n",
       "       [ 1.10026048e-03,  0.00000000e+00,  1.50370727e-03, ...,\n",
       "         2.56409872e-04,  0.00000000e+00,  7.51652705e-04]])"
      ]
     },
     "execution_count": 39,
     "metadata": {},
     "output_type": "execute_result"
    }
   ],
   "source": [
    "#Normalize the data\n",
    "from sklearn.preprocessing import RobustScaler\n",
    "transformer = RobustScaler().fit(train_features)\n",
    "transformer.transform(train_features)\n",
    "transformer.transform(test_features)\n",
    "\n"
   ]
  },
  {
   "cell_type": "code",
   "execution_count": 40,
   "metadata": {},
   "outputs": [
    {
     "data": {
      "text/plain": [
       "array([[ 0.87852993, -0.17563716,  0.87859335, ...,  0.85920398,\n",
       "        -0.44737166,  0.88003699],\n",
       "       [-1.13759606, -0.17563716, -1.13832461, ..., -1.16237655,\n",
       "        -0.44737166, -1.13737295],\n",
       "       [ 0.87575785, -0.17563716,  0.87928413, ...,  0.8591837 ,\n",
       "        -0.44737166,  0.8778809 ],\n",
       "       ...,\n",
       "       [ 0.87882875, -0.17563716,  0.87784205, ...,  0.85943764,\n",
       "        -0.44737166,  0.8789959 ],\n",
       "       [-1.13759606, -0.17563716, -1.13832461, ..., -1.16237655,\n",
       "        -0.44737166, -1.13737295],\n",
       "       [ 0.87905006, -0.17563716,  0.87872073, ...,  0.85909053,\n",
       "        -0.44737166,  0.87855954]])"
      ]
     },
     "execution_count": 40,
     "metadata": {},
     "output_type": "execute_result"
    }
   ],
   "source": [
    "# Standardise the data\n",
    "from sklearn import preprocessing\n",
    "scaler = preprocessing.StandardScaler().fit(train_features)\n",
    "scaler.transform(train_features)        \n",
    "scaler.transform(test_features)        \n"
   ]
  },
  {
   "cell_type": "code",
   "execution_count": 41,
   "metadata": {},
   "outputs": [],
   "source": [
    "a.Predict_BNP(train_features,test_features,train_labels)"
   ]
  },
  {
   "cell_type": "code",
   "execution_count": null,
   "metadata": {},
   "outputs": [],
   "source": []
  }
 ],
 "metadata": {
  "kernelspec": {
   "display_name": "Python 3",
   "language": "python",
   "name": "python3"
  },
  "language_info": {
   "codemirror_mode": {
    "name": "ipython",
    "version": 3
   },
   "file_extension": ".py",
   "mimetype": "text/x-python",
   "name": "python",
   "nbconvert_exporter": "python",
   "pygments_lexer": "ipython3",
   "version": "3.7.1"
  }
 },
 "nbformat": 4,
 "nbformat_minor": 2
}
